{
 "cells": [
  {
   "cell_type": "code",
   "execution_count": 1,
   "metadata": {
    "collapsed": true
   },
   "outputs": [],
   "source": [
    "import pandas as pd\n",
    "\n",
    "def txt_to_csv(txt_filename, csv_filename):\n",
    "    # Read clothing labels from the TXT file\n",
    "    with open(txt_filename, 'r') as f:\n",
    "        clothing_labels = [line.strip() for line in f.readlines()]\n",
    "\n",
    "    # Create a Pandas DataFrame\n",
    "    df = pd.DataFrame(clothing_labels, columns=[\"Clothing Labels\"])\n",
    "\n",
    "    # Save the DataFrame to a CSV file\n",
    "    df.to_csv(csv_filename, index=False)\n",
    "\n",
    "# Usage example:\n",
    "filename_txt = 'clothing_labels.txt'\n",
    "filename_csv = 'clothing_labels.csv'\n",
    "txt_to_csv(filename_txt, filename_csv)\n"
   ]
  },
  {
   "cell_type": "code",
   "execution_count": null,
   "outputs": [],
   "source": [],
   "metadata": {
    "collapsed": false
   }
  }
 ],
 "metadata": {
  "kernelspec": {
   "display_name": "Python 3",
   "language": "python",
   "name": "python3"
  },
  "language_info": {
   "codemirror_mode": {
    "name": "ipython",
    "version": 2
   },
   "file_extension": ".py",
   "mimetype": "text/x-python",
   "name": "python",
   "nbconvert_exporter": "python",
   "pygments_lexer": "ipython2",
   "version": "2.7.6"
  }
 },
 "nbformat": 4,
 "nbformat_minor": 0
}
